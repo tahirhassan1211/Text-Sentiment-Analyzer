{
  "nbformat": 4,
  "nbformat_minor": 0,
  "metadata": {
    "colab": {
      "provenance": [],
      "gpuType": "T4"
    },
    "kernelspec": {
      "name": "python3",
      "display_name": "Python 3"
    },
    "language_info": {
      "name": "python"
    },
    "accelerator": "GPU"
  },
  "cells": [
    {
      "cell_type": "code",
      "source": [
        "!pip install -q gradio transformers\n",
        "\n",
        "import gradio as gr\n",
        "from transformers import pipeline\n",
        "\n",
        "# Load model\n",
        "sentiment_pipeline = pipeline(\"sentiment-analysis\", model=\"distilbert-base-uncased-finetuned-sst-2-english\")\n",
        "\n",
        "# Inference function\n",
        "def analyze_sentiment(text):\n",
        "    if not text.strip():\n",
        "        return \"Please enter some text.\", 0.0\n",
        "    result = sentiment_pipeline(text)[0]\n",
        "    return result['label'], round(result['score'], 3)\n",
        "\n",
        "# CSS with background image\n",
        "custom_css = \"\"\"\n",
        "\n",
        "\n",
        ".gradio-container {\n",
        "    background-color: #017347 !important;\n",
        "    border-radius: 12px;\n",
        "    padding: 20px;\n",
        "    backdrop-filter: blur(4px);\n",
        "}\n",
        "\n",
        ".interface, .block {\n",
        "    background-color: #e8e492;  /* Light yellow */\n",
        "    padding: 20px;\n",
        "    border-radius: 10px;\n",
        "}\n",
        "\n",
        "textarea {\n",
        "    background-color: #ffffff !important;\n",
        "    border: 2px solid #000000 !important;\n",
        "    border-radius: 10px !important;\n",
        "    padding: 10px !important;\n",
        "    font-size: 16px !important;\n",
        "    color: #333 !important;\n",
        "}\n",
        "\n",
        "button {\n",
        "    background-color: #e8e492 !important;\n",
        "    color: #000000 !important;\n",
        "    border: 2px solid #000000 !important;\n",
        "    border-radius: 8px !important;\n",
        "    padding: 10px 20px !important;\n",
        "    font-size: 16px !important;\n",
        "    transition: 0.3s ease;\n",
        "}\n",
        "\n",
        "button:hover {\n",
        "    background-color: #ffffff !important;\n",
        "}\n",
        "\n",
        "h1, p {\n",
        "    color: #000000 !important;\n",
        "    text-align: center !important;\n",
        "\n",
        "\n",
        "\n",
        "}\n",
        "\"\"\"\n",
        "\n",
        "# Build the Gradio Interface\n",
        "app = gr.Interface(\n",
        "    fn=analyze_sentiment,\n",
        "inputs=gr.Textbox(lines=4, placeholder=\"Write something here...\", label=\"Enter your text\"),\n",
        "    outputs=[\n",
        "        gr.Text(label=\"Sentiment\"),\n",
        "        gr.Number(label=\"Confidence Score\")\n",
        "    ],\n",
        "    title=\"😊 Sentiment Analysis Application ☹️\",\n",
        "    description=\"Analyze the sentiment of any text using a BERT-based model (fast & accurate)\",\n",
        "    css=custom_css\n",
        ")\n",
        "\n",
        "# Launch in Colab\n",
        "app.launch(share=True)\n"
      ],
      "metadata": {
        "id": "CPaep-W0TPGf",
        "colab": {
          "base_uri": "https://localhost:8080/",
          "height": 628
        },
        "outputId": "2e1c8f74-870b-49a9-90e1-fe428833fc03"
      },
      "execution_count": 11,
      "outputs": [
        {
          "output_type": "stream",
          "name": "stderr",
          "text": [
            "Device set to use cuda:0\n"
          ]
        },
        {
          "output_type": "stream",
          "name": "stdout",
          "text": [
            "Colab notebook detected. To show errors in colab notebook, set debug=True in launch()\n",
            "* Running on public URL: https://805dfe6526b3b0c36b.gradio.live\n",
            "\n",
            "This share link expires in 1 week. For free permanent hosting and GPU upgrades, run `gradio deploy` from the terminal in the working directory to deploy to Hugging Face Spaces (https://huggingface.co/spaces)\n"
          ]
        },
        {
          "output_type": "display_data",
          "data": {
            "text/plain": [
              "<IPython.core.display.HTML object>"
            ],
            "text/html": [
              "<div><iframe src=\"https://805dfe6526b3b0c36b.gradio.live\" width=\"100%\" height=\"500\" allow=\"autoplay; camera; microphone; clipboard-read; clipboard-write;\" frameborder=\"0\" allowfullscreen></iframe></div>"
            ]
          },
          "metadata": {}
        },
        {
          "output_type": "execute_result",
          "data": {
            "text/plain": []
          },
          "metadata": {},
          "execution_count": 11
        }
      ]
    }
  ]
}